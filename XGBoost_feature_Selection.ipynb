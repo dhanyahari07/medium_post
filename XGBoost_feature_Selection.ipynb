{
  "nbformat": 4,
  "nbformat_minor": 0,
  "metadata": {
    "colab": {
      "provenance": [],
      "mount_file_id": "17FGdqavNZHTiwcuP0c1VJ0SUCzbO3kfx",
      "authorship_tag": "ABX9TyMCdrAoO5CAkk71ocse34Dg",
      "include_colab_link": true
    },
    "kernelspec": {
      "name": "python3",
      "display_name": "Python 3"
    },
    "language_info": {
      "name": "python"
    }
  },
  "cells": [
    {
      "cell_type": "markdown",
      "metadata": {
        "id": "view-in-github",
        "colab_type": "text"
      },
      "source": [
        "<a href=\"https://colab.research.google.com/github/dhanyahari07/medium_post/blob/main/XGBoost_feature_Selection.ipynb\" target=\"_parent\"><img src=\"https://colab.research.google.com/assets/colab-badge.svg\" alt=\"Open In Colab\"/></a>"
      ]
    },
    {
      "cell_type": "code",
      "execution_count": null,
      "metadata": {
        "colab": {
          "base_uri": "https://localhost:8080/"
        },
        "id": "wATs-jGUgwVo",
        "outputId": "28fe239f-1c96-4e2f-83eb-e690a917c95a"
      },
      "outputs": [
        {
          "output_type": "stream",
          "name": "stdout",
          "text": [
            "Accuracy: 74.0260\n"
          ]
        }
      ],
      "source": [
        "import pandas as pd\n",
        "from numpy import sort\n",
        "from sklearn.feature_selection import SelectFromModel\n",
        "from sklearn.model_selection import train_test_split\n",
        "from sklearn.preprocessing import StandardScaler\n",
        "from xgboost import XGBClassifier\n",
        "from sklearn.metrics import accuracy_score, classification_report\n",
        "\n",
        "# Load the Pima Indians Diabetes dataset\n",
        "df = pd.read_csv(\"/content/drive/MyDrive/XGBoost/diabetes.csv\")\n",
        "\n",
        "# Separate features and target variable\n",
        "X = df.drop(\"Outcome\", axis=1)\n",
        "y = df[\"Outcome\"]\n",
        "\n",
        "# Train-test split\n",
        "X_train, X_test, y_train, y_test = train_test_split(X, y, test_size=0.2, random_state=42)\n",
        "\n",
        "# Standardize features\n",
        "scaler = StandardScaler()\n",
        "X_train_scaled = scaler.fit_transform(X_train)\n",
        "X_test_scaled = scaler.transform(X_test)\n",
        "\n",
        "# Define XGBoost classifier parameters\n",
        "model = XGBClassifier(n_estimators=100, max_depth=6, learning_rate=0.1)\n",
        "\n",
        "# Train the model\n",
        "model.fit(X_train_scaled, y_train)\n",
        "\n",
        "# Evaluate the model\n",
        "y_pred = model.predict(X_test_scaled)\n",
        "accuracy = accuracy_score(y_test, y_pred)\n",
        "#report = classification_report(y_test, y_pred)\n",
        "\n",
        "print(f\"Accuracy: {accuracy*100:.4f}\")\n",
        "#print(report)"
      ]
    },
    {
      "cell_type": "code",
      "source": [
        "\n",
        "\n",
        "# Fit model using each importance as a threshold\n",
        "thresholds = sort(model.feature_importances_)\n",
        "for thresh in thresholds:\n",
        " # select features using threshold\n",
        " selection = SelectFromModel(model, threshold=thresh, prefit=True)\n",
        " select_X_train = selection.transform(X_train_scaled)\n",
        " # train model\n",
        " selection_model = XGBClassifier(n_estimators=100, max_depth=6, learning_rate=0.1)\n",
        " selection_model.fit(select_X_train, y_train)\n",
        " # eval model\n",
        " select_X_test = selection.transform(X_test_scaled)\n",
        " predictions = selection_model.predict(select_X_test)\n",
        " accuracy = accuracy_score(y_test, predictions)\n",
        " print(\"Thresh=%.3f, n=%d, Accuracy: %.2f%%\" % (thresh, select_X_train.shape[1], accuracy*100.0))"
      ],
      "metadata": {
        "colab": {
          "base_uri": "https://localhost:8080/"
        },
        "id": "O4FZ62v0hazy",
        "outputId": "89fd8009-f62e-4a13-b41e-2571aadb46e4"
      },
      "execution_count": null,
      "outputs": [
        {
          "output_type": "stream",
          "name": "stdout",
          "text": [
            "Thresh=0.075, n=8, Accuracy: 74.03%\n",
            "Thresh=0.081, n=7, Accuracy: 72.08%\n",
            "Thresh=0.093, n=6, Accuracy: 72.08%\n",
            "Thresh=0.093, n=5, Accuracy: 72.73%\n",
            "Thresh=0.100, n=4, Accuracy: 74.03%\n",
            "Thresh=0.138, n=3, Accuracy: 71.43%\n",
            "Thresh=0.141, n=2, Accuracy: 74.68%\n",
            "Thresh=0.279, n=1, Accuracy: 73.38%\n"
          ]
        }
      ]
    },
    {
      "cell_type": "code",
      "source": [],
      "metadata": {
        "id": "mrnne3COiEHd"
      },
      "execution_count": null,
      "outputs": []
    }
  ]
}