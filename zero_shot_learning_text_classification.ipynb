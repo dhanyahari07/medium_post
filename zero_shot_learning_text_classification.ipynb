{
  "nbformat": 4,
  "nbformat_minor": 0,
  "metadata": {
    "colab": {
      "provenance": [],
      "mount_file_id": "1fvr8P78UOTx0d1Zrub4zYfa3wFLom88R",
      "authorship_tag": "ABX9TyMEchRKcGdc2xOku5xPp/dt",
      "include_colab_link": true
    },
    "kernelspec": {
      "name": "python3",
      "display_name": "Python 3"
    },
    "language_info": {
      "name": "python"
    }
  },
  "cells": [
    {
      "cell_type": "markdown",
      "metadata": {
        "id": "view-in-github",
        "colab_type": "text"
      },
      "source": [
        "<a href=\"https://colab.research.google.com/github/dhanyahari07/medium_post/blob/main/zero_shot_learning_text_classification.ipynb\" target=\"_parent\"><img src=\"https://colab.research.google.com/assets/colab-badge.svg\" alt=\"Open In Colab\"/></a>"
      ]
    },
    {
      "cell_type": "code",
      "execution_count": 1,
      "metadata": {
        "id": "pxr6E9WgNEGH"
      },
      "outputs": [],
      "source": [
        "import numpy as np\n",
        "from keras.models import Sequential\n",
        "from keras.layers import Embedding, Flatten, Dense\n",
        "from keras.preprocessing.text import Tokenizer\n",
        "from keras.preprocessing.sequence import pad_sequences"
      ]
    },
    {
      "cell_type": "code",
      "source": [
        "# Example texts and their corresponding labels\n",
        "texts = [\n",
        "    \"This is a positive review.\",\n",
        "    \"Negative sentiment detected in this text.\",\n",
        "    \"The product is excellent.\",\n",
        "    \"I don't recommend this at all.\"\n",
        "]\n",
        "\n",
        "labels = [\n",
        "    \"Positive\",\n",
        "    \"Negative\",\n",
        "    \"Positive\",\n",
        "    \"Negative\"\n",
        "]\n",
        "\n",
        "label_values=[1,0,1,0]"
      ],
      "metadata": {
        "id": "RMCLNt6BN-HS"
      },
      "execution_count": 9,
      "outputs": []
    },
    {
      "cell_type": "code",
      "source": [
        "# Tokenizing the text and converting to sequences\n",
        "tokenizer = Tokenizer()\n",
        "tokenizer.fit_on_texts(texts)\n",
        "sequences = tokenizer.texts_to_sequences(texts)"
      ],
      "metadata": {
        "id": "oaGLfiB9OBSh"
      },
      "execution_count": 3,
      "outputs": []
    },
    {
      "cell_type": "code",
      "source": [
        "# Padding sequences for a consistent input shape\n",
        "max_len = max(len(seq) for seq in sequences)\n",
        "padded_sequences = pad_sequences(sequences, maxlen=max_len, padding='post')\n"
      ],
      "metadata": {
        "id": "E8tVo0LHOHel"
      },
      "execution_count": 4,
      "outputs": []
    },
    {
      "cell_type": "code",
      "source": [
        "# Creating word embeddings using GloVe\n",
        "embedding_dim = 50  # Adjust based on your GloVe embedding dimension\n",
        "embedding_matrix = np.zeros((len(tokenizer.word_index) + 1, embedding_dim))"
      ],
      "metadata": {
        "id": "9cEt_kJoOJ4P"
      },
      "execution_count": 5,
      "outputs": []
    },
    {
      "cell_type": "code",
      "source": [
        "# Load GloVe embeddings\n",
        "glove_file_path = '/content/drive/MyDrive/zero_shot_learning/glove.6B.50d.txt'  # Provide the path to your GloVe file\n",
        "with open(glove_file_path, encoding='utf-8') as file:\n",
        "    for line in file:\n",
        "        values = line.split()\n",
        "        word = values[0]\n",
        "        if word in tokenizer.word_index:\n",
        "            embedding_matrix[tokenizer.word_index[word]] = np.array(values[1:], dtype='float32')\n"
      ],
      "metadata": {
        "id": "bgdDgCYqOME9"
      },
      "execution_count": 6,
      "outputs": []
    },
    {
      "cell_type": "code",
      "source": [
        "# Define the model\n",
        "model = Sequential()\n",
        "model.add(Embedding(input_dim=len(tokenizer.word_index) + 1,\n",
        "                    output_dim=embedding_dim,\n",
        "                    weights=[embedding_matrix],\n",
        "                    input_length=max_len,\n",
        "                    trainable=False))  # Set trainable to True if you want to fine-tune embeddings\n",
        "model.add(Flatten())\n",
        "model.add(Dense(1, activation='sigmoid'))  # Binary classification, change based on your problem\n"
      ],
      "metadata": {
        "id": "V74M7iv0OZwi"
      },
      "execution_count": 7,
      "outputs": []
    },
    {
      "cell_type": "code",
      "source": [
        "# Compile the model\n",
        "model.compile(optimizer='adam', loss='binary_crossentropy', metrics=['accuracy'])\n",
        "\n",
        "# Train the model\n",
        "#model.fit(padded_sequences, np.array(labels == \"Positive\", dtype=int), epochs=10, batch_size=1, verbose=1)\n",
        "model.fit(padded_sequences,np.array(label_values), epochs=50, batch_size=1, verbose=1)\n"
      ],
      "metadata": {
        "colab": {
          "base_uri": "https://localhost:8080/"
        },
        "id": "A5nRF64GOdDN",
        "outputId": "22799b17-bfaf-4704-fe2c-1d660c1af575"
      },
      "execution_count": 14,
      "outputs": [
        {
          "output_type": "stream",
          "name": "stdout",
          "text": [
            "Epoch 1/50\n",
            "4/4 [==============================] - 1s 6ms/step - loss: 0.3496 - accuracy: 1.0000\n",
            "Epoch 2/50\n",
            "4/4 [==============================] - 0s 8ms/step - loss: 0.3011 - accuracy: 1.0000\n",
            "Epoch 3/50\n",
            "4/4 [==============================] - 0s 7ms/step - loss: 0.2665 - accuracy: 1.0000\n",
            "Epoch 4/50\n",
            "4/4 [==============================] - 0s 7ms/step - loss: 0.2418 - accuracy: 1.0000\n",
            "Epoch 5/50\n",
            "4/4 [==============================] - 0s 6ms/step - loss: 0.2087 - accuracy: 1.0000\n",
            "Epoch 6/50\n",
            "4/4 [==============================] - 0s 4ms/step - loss: 0.1872 - accuracy: 1.0000\n",
            "Epoch 7/50\n",
            "4/4 [==============================] - 0s 4ms/step - loss: 0.1687 - accuracy: 1.0000\n",
            "Epoch 8/50\n",
            "4/4 [==============================] - 0s 4ms/step - loss: 0.1509 - accuracy: 1.0000\n",
            "Epoch 9/50\n",
            "4/4 [==============================] - 0s 5ms/step - loss: 0.1326 - accuracy: 1.0000\n",
            "Epoch 10/50\n",
            "4/4 [==============================] - 0s 5ms/step - loss: 0.1208 - accuracy: 1.0000\n",
            "Epoch 11/50\n",
            "4/4 [==============================] - 0s 5ms/step - loss: 0.1114 - accuracy: 1.0000\n",
            "Epoch 12/50\n",
            "4/4 [==============================] - 0s 4ms/step - loss: 0.0995 - accuracy: 1.0000\n",
            "Epoch 13/50\n",
            "4/4 [==============================] - 0s 5ms/step - loss: 0.0915 - accuracy: 1.0000\n",
            "Epoch 14/50\n",
            "4/4 [==============================] - 0s 5ms/step - loss: 0.0847 - accuracy: 1.0000\n",
            "Epoch 15/50\n",
            "4/4 [==============================] - 0s 5ms/step - loss: 0.0784 - accuracy: 1.0000\n",
            "Epoch 16/50\n",
            "4/4 [==============================] - 0s 5ms/step - loss: 0.0723 - accuracy: 1.0000\n",
            "Epoch 17/50\n",
            "4/4 [==============================] - 0s 5ms/step - loss: 0.0681 - accuracy: 1.0000\n",
            "Epoch 18/50\n",
            "4/4 [==============================] - 0s 5ms/step - loss: 0.0634 - accuracy: 1.0000\n",
            "Epoch 19/50\n",
            "4/4 [==============================] - 0s 6ms/step - loss: 0.0590 - accuracy: 1.0000\n",
            "Epoch 20/50\n",
            "4/4 [==============================] - 0s 4ms/step - loss: 0.0560 - accuracy: 1.0000\n",
            "Epoch 21/50\n",
            "4/4 [==============================] - 0s 5ms/step - loss: 0.0520 - accuracy: 1.0000\n",
            "Epoch 22/50\n",
            "4/4 [==============================] - 0s 4ms/step - loss: 0.0493 - accuracy: 1.0000\n",
            "Epoch 23/50\n",
            "4/4 [==============================] - 0s 4ms/step - loss: 0.0467 - accuracy: 1.0000\n",
            "Epoch 24/50\n",
            "4/4 [==============================] - 0s 5ms/step - loss: 0.0442 - accuracy: 1.0000\n",
            "Epoch 25/50\n",
            "4/4 [==============================] - 0s 4ms/step - loss: 0.0423 - accuracy: 1.0000\n",
            "Epoch 26/50\n",
            "4/4 [==============================] - 0s 5ms/step - loss: 0.0401 - accuracy: 1.0000\n",
            "Epoch 27/50\n",
            "4/4 [==============================] - 0s 4ms/step - loss: 0.0382 - accuracy: 1.0000\n",
            "Epoch 28/50\n",
            "4/4 [==============================] - 0s 4ms/step - loss: 0.0364 - accuracy: 1.0000\n",
            "Epoch 29/50\n",
            "4/4 [==============================] - 0s 5ms/step - loss: 0.0346 - accuracy: 1.0000\n",
            "Epoch 30/50\n",
            "4/4 [==============================] - 0s 4ms/step - loss: 0.0331 - accuracy: 1.0000\n",
            "Epoch 31/50\n",
            "4/4 [==============================] - 0s 5ms/step - loss: 0.0320 - accuracy: 1.0000\n",
            "Epoch 32/50\n",
            "4/4 [==============================] - 0s 5ms/step - loss: 0.0307 - accuracy: 1.0000\n",
            "Epoch 33/50\n",
            "4/4 [==============================] - 0s 4ms/step - loss: 0.0294 - accuracy: 1.0000\n",
            "Epoch 34/50\n",
            "4/4 [==============================] - 0s 4ms/step - loss: 0.0281 - accuracy: 1.0000\n",
            "Epoch 35/50\n",
            "4/4 [==============================] - 0s 5ms/step - loss: 0.0273 - accuracy: 1.0000\n",
            "Epoch 36/50\n",
            "4/4 [==============================] - 0s 5ms/step - loss: 0.0262 - accuracy: 1.0000\n",
            "Epoch 37/50\n",
            "4/4 [==============================] - 0s 5ms/step - loss: 0.0254 - accuracy: 1.0000\n",
            "Epoch 38/50\n",
            "4/4 [==============================] - 0s 5ms/step - loss: 0.0243 - accuracy: 1.0000\n",
            "Epoch 39/50\n",
            "4/4 [==============================] - 0s 5ms/step - loss: 0.0236 - accuracy: 1.0000\n",
            "Epoch 40/50\n",
            "4/4 [==============================] - 0s 4ms/step - loss: 0.0228 - accuracy: 1.0000\n",
            "Epoch 41/50\n",
            "4/4 [==============================] - 0s 4ms/step - loss: 0.0220 - accuracy: 1.0000\n",
            "Epoch 42/50\n",
            "4/4 [==============================] - 0s 31ms/step - loss: 0.0213 - accuracy: 1.0000\n",
            "Epoch 43/50\n",
            "4/4 [==============================] - 0s 17ms/step - loss: 0.0206 - accuracy: 1.0000\n",
            "Epoch 44/50\n",
            "4/4 [==============================] - 0s 26ms/step - loss: 0.0200 - accuracy: 1.0000\n",
            "Epoch 45/50\n",
            "4/4 [==============================] - 0s 17ms/step - loss: 0.0194 - accuracy: 1.0000\n",
            "Epoch 46/50\n",
            "4/4 [==============================] - 0s 8ms/step - loss: 0.0188 - accuracy: 1.0000\n",
            "Epoch 47/50\n",
            "4/4 [==============================] - 0s 8ms/step - loss: 0.0183 - accuracy: 1.0000\n",
            "Epoch 48/50\n",
            "4/4 [==============================] - 0s 11ms/step - loss: 0.0178 - accuracy: 1.0000\n",
            "Epoch 49/50\n",
            "4/4 [==============================] - 0s 18ms/step - loss: 0.0172 - accuracy: 1.0000\n",
            "Epoch 50/50\n",
            "4/4 [==============================] - 0s 10ms/step - loss: 0.0168 - accuracy: 1.0000\n"
          ]
        },
        {
          "output_type": "execute_result",
          "data": {
            "text/plain": [
              "<keras.src.callbacks.History at 0x791517750580>"
            ]
          },
          "metadata": {},
          "execution_count": 14
        }
      ]
    },
    {
      "cell_type": "code",
      "source": [
        "# Example of zero-shot prediction on a new text\n",
        "new_text = \"I'm really impressed with this product.\"\n",
        "#new_text = \"I hate this product.\"\n",
        "new_sequence = tokenizer.texts_to_sequences([new_text])\n",
        "new_padded_sequence = pad_sequences(new_sequence, maxlen=max_len, padding='post')\n",
        "\n",
        "# Make predictions\n",
        "prediction = model.predict(new_padded_sequence)\n",
        "predicted_label = \"Positive\" if prediction[0][0] > 0.5 else \"Negative\"\n",
        "\n",
        "print(f\"The model predicts the label for the new text as: {predicted_label}\")"
      ],
      "metadata": {
        "colab": {
          "base_uri": "https://localhost:8080/"
        },
        "id": "fWh9_wyeOf5w",
        "outputId": "1b984586-7e90-46b4-a303-1bdfc47a849a"
      },
      "execution_count": 16,
      "outputs": [
        {
          "output_type": "stream",
          "name": "stdout",
          "text": [
            "1/1 [==============================] - 0s 22ms/step\n",
            "The model predicts the label for the new text as: Positive\n"
          ]
        }
      ]
    },
    {
      "cell_type": "code",
      "source": [],
      "metadata": {
        "id": "PAT4En6SRSbO"
      },
      "execution_count": null,
      "outputs": []
    }
  ]
}